{
 "cells": [
  {
   "cell_type": "markdown",
   "id": "c4077678",
   "metadata": {},
   "source": [
    "# 01 · Data Inventory\n",
    "        \n",
    "This notebook explores the DNA sequence data structure and file organization.\n",
    "\n",
    "## Project Structure\n",
    "- **Raw Data**: `DNA-Data for Telhai/2023-05-11/`\n",
    "- **Processed Data**: `artifacts/`\n",
    "- **Logs**: `logs/`\n",
    "- **Scratch Space**: `scratch/`\n"
   ]
  },
  {
   "cell_type": "code",
   "execution_count": null,
   "id": "c5baa2c8",
   "metadata": {},
   "outputs": [],
   "source": [
    "# Import libraries and set paths\n",
    "from pathlib import Path\n",
    "import os\n",
    "import pandas as pd\n",
    "\n",
    "root = Path(\"/home/mch/dna\")\n",
    "DATA_DIR = root / \"DNA-Data for Telhai\" / \"2023-05-11\"\n",
    "ARTIFACTS = root / \"artifacts\"\n",
    "LOGS = root / \"logs\"\n",
    "\n",
    "print(f\"Root directory: {root}\")\n",
    "print(f\"Data directory: {DATA_DIR}\")\n",
    "print(f\"Data exists: {DATA_DIR.exists()}\")"
   ]
  },
  {
   "cell_type": "code",
   "execution_count": null,
   "id": "531b44cf",
   "metadata": {},
   "outputs": [],
   "source": [
    "# Check raw data files\n",
    "clusters_csv = DATA_DIR / \"clusters.csv\"\n",
    "zip_dir = DATA_DIR / \"7zip\"\n",
    "\n",
    "print(f\"\\nClusters CSV:\")\n",
    "print(f\"  Path: {clusters_csv}\")\n",
    "print(f\"  Exists: {clusters_csv.exists()}\")\n",
    "if clusters_csv.exists():\n",
    "    size_mb = clusters_csv.stat().st_size / (1024 * 1024)\n",
    "    print(f\"  Size: {size_mb:.2f} MB\")\n",
    "    \n",
    "print(f\"\\n7zip directory:\")\n",
    "print(f\"  Path: {zip_dir}\")\n",
    "if zip_dir.exists():\n",
    "    for f in zip_dir.iterdir():\n",
    "        print(f\"  - {f.name} ({f.stat().st_size / (1024*1024):.2f} MB)\")"
   ]
  },
  {
   "cell_type": "code",
   "execution_count": null,
   "id": "0389f681",
   "metadata": {},
   "outputs": [],
   "source": [
    "# Quick preview of clusters.csv\n",
    "if clusters_csv.exists():\n",
    "    df_sample = pd.read_csv(clusters_csv, nrows=10)\n",
    "    print(f\"Shape (first 10 rows): {df_sample.shape}\")\n",
    "    print(f\"Columns: {list(df_sample.columns)}\")\n",
    "    print(\"\\nFirst 5 rows:\")\n",
    "    display(df_sample.head())\n",
    "    \n",
    "    # Check for null values\n",
    "    print(f\"\\nNull values in sample:\")\n",
    "    print(df_sample.isnull().sum())"
   ]
  },
  {
   "cell_type": "code",
   "execution_count": null,
   "id": "d7bfe9df",
   "metadata": {},
   "outputs": [],
   "source": [
    "# Check processed data\n",
    "parquet_dir = ARTIFACTS / \"clusters_parquet\"\n",
    "duckdb_file = ARTIFACTS / \"dna.duckdb\"\n",
    "\n",
    "print(\"Processed data status:\")\n",
    "print(f\"  Parquet directory exists: {parquet_dir.exists()}\")\n",
    "if parquet_dir.exists():\n",
    "    parquet_files = list(parquet_dir.glob(\"*.parquet\"))\n",
    "    print(f\"  Number of parquet files: {len(parquet_files)}\")\n",
    "    if parquet_files:\n",
    "        total_size = sum(f.stat().st_size for f in parquet_files) / (1024*1024)\n",
    "        print(f\"  Total size: {total_size:.2f} MB\")\n",
    "\n",
    "print(f\"\\n  DuckDB file exists: {duckdb_file.exists()}\")\n",
    "if duckdb_file.exists():\n",
    "    print(f\"  Size: {duckdb_file.stat().st_size / (1024*1024):.2f} MB\")"
   ]
  }
 ],
 "metadata": {
  "kernelspec": {
   "display_name": "Python (dnaenv)",
   "language": "python",
   "name": "dnaenv"
  },
  "language_info": {
   "name": "python",
   "version": "3.11"
  }
 },
 "nbformat": 4,
 "nbformat_minor": 5
}
