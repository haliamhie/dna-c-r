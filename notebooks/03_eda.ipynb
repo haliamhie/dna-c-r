{
 "cells": [
  {
   "cell_type": "markdown",
   "id": "70d56aa6",
   "metadata": {},
   "source": [
    "# 03 · Exploratory Data Analysis\n",
    "\n",
    "This notebook performs comprehensive EDA on the DNA sequence data using DuckDB for efficient queries.\n",
    "\n",
    "## Analysis Sections\n",
    "1. Basic statistics and data quality\n",
    "2. Barcode sequence patterns\n",
    "3. UUID distribution analysis\n",
    "4. Data completeness assessment\n"
   ]
  },
  {
   "cell_type": "code",
   "execution_count": null,
   "id": "23554b66",
   "metadata": {},
   "outputs": [],
   "source": [
    "# Setup and connect to database\n",
    "import duckdb\n",
    "import pandas as pd\n",
    "import os\n",
    "from pathlib import Path\n",
    "\n",
    "root = Path(\"/home/mch/dna\")\n",
    "db_path = root / \"artifacts\" / \"dna.duckdb\"\n",
    "\n",
    "# Connect to database\n",
    "con = duckdb.connect(str(db_path))\n",
    "print(f\"Connected to: {db_path}\")\n",
    "\n",
    "# Verify tables/views\n",
    "tables = con.sql(\"SHOW TABLES\").df()\n",
    "print(f\"\\nAvailable views: {list(tables['name'])}\")"
   ]
  },
  {
   "cell_type": "markdown",
   "id": "b1679e69",
   "metadata": {},
   "source": [
    "## 1. Basic Statistics"
   ]
  },
  {
   "cell_type": "code",
   "execution_count": null,
   "id": "2c303418",
   "metadata": {},
   "outputs": [],
   "source": [
    "# Overall statistics\n",
    "print(\"=== OVERALL STATISTICS ===\")\n",
    "con.sql(\"SELECT * FROM barcode_stats\").show()"
   ]
  },
  {
   "cell_type": "code",
   "execution_count": null,
   "id": "20e55981",
   "metadata": {},
   "outputs": [],
   "source": [
    "# Sample of data\n",
    "print(\"=== SAMPLE DATA (10 rows) ===\")\n",
    "con.sql(\"\"\"\n",
    "    SELECT id, barcode, LENGTH(barcode) as barcode_len\n",
    "    FROM clusters\n",
    "    WHERE barcode IS NOT NULL AND barcode != ''\n",
    "    LIMIT 10\n",
    "\"\"\").show()"
   ]
  },
  {
   "cell_type": "markdown",
   "id": "807e82cc",
   "metadata": {},
   "source": [
    "## 2. Barcode Analysis"
   ]
  },
  {
   "cell_type": "code",
   "execution_count": null,
   "id": "d17c6cf2",
   "metadata": {},
   "outputs": [],
   "source": [
    "# Barcode length distribution\n",
    "print(\"=== BARCODE LENGTH DISTRIBUTION ===\")\n",
    "con.sql(\"\"\"\n",
    "    SELECT barcode_length, count, \n",
    "           ROUND(100.0 * count / SUM(count) OVER (), 2) as percentage\n",
    "    FROM barcode_lengths\n",
    "    LIMIT 15\n",
    "\"\"\").show()"
   ]
  },
  {
   "cell_type": "code",
   "execution_count": null,
   "id": "77426255",
   "metadata": {},
   "outputs": [],
   "source": [
    "# Most common barcodes\n",
    "print(\"=== TOP 10 MOST FREQUENT BARCODES ===\")\n",
    "con.sql(\"\"\"\n",
    "    SELECT barcode, COUNT(*) as frequency,\n",
    "           ROUND(100.0 * COUNT(*) / (SELECT COUNT(*) FROM clusters WHERE barcode IS NOT NULL), 4) as percentage\n",
    "    FROM clusters\n",
    "    WHERE barcode IS NOT NULL AND barcode != ''\n",
    "    GROUP BY barcode\n",
    "    ORDER BY frequency DESC\n",
    "    LIMIT 10\n",
    "\"\"\").show()"
   ]
  },
  {
   "cell_type": "code",
   "execution_count": null,
   "id": "69c309b5",
   "metadata": {},
   "outputs": [],
   "source": [
    "# Nucleotide composition\n",
    "print(\"=== NUCLEOTIDE COMPOSITION IN BARCODES ===\")\n",
    "con.sql(\"\"\"\n",
    "    WITH nucleotide_counts AS (\n",
    "        SELECT \n",
    "            SUM(LENGTH(barcode) - LENGTH(REPLACE(barcode, 'A', ''))) as A_count,\n",
    "            SUM(LENGTH(barcode) - LENGTH(REPLACE(barcode, 'C', ''))) as C_count,\n",
    "            SUM(LENGTH(barcode) - LENGTH(REPLACE(barcode, 'G', ''))) as G_count,\n",
    "            SUM(LENGTH(barcode) - LENGTH(REPLACE(barcode, 'T', ''))) as T_count,\n",
    "            SUM(LENGTH(barcode)) as total_bases\n",
    "        FROM clusters\n",
    "        WHERE barcode IS NOT NULL AND barcode != ''\n",
    "    )\n",
    "    SELECT \n",
    "        A_count, \n",
    "        ROUND(100.0 * A_count / total_bases, 2) as A_pct,\n",
    "        C_count,\n",
    "        ROUND(100.0 * C_count / total_bases, 2) as C_pct,\n",
    "        G_count,\n",
    "        ROUND(100.0 * G_count / total_bases, 2) as G_pct,\n",
    "        T_count,\n",
    "        ROUND(100.0 * T_count / total_bases, 2) as T_pct,\n",
    "        total_bases\n",
    "    FROM nucleotide_counts\n",
    "\"\"\").show()"
   ]
  },
  {
   "cell_type": "markdown",
   "id": "c7acf304",
   "metadata": {},
   "source": [
    "## 3. UUID Analysis"
   ]
  },
  {
   "cell_type": "code",
   "execution_count": null,
   "id": "92422e80",
   "metadata": {},
   "outputs": [],
   "source": [
    "# Check UUID format compliance\n",
    "print(\"=== UUID FORMAT ANALYSIS ===\")\n",
    "con.sql(\"\"\"\n",
    "    SELECT \n",
    "        COUNT(*) as total_ids,\n",
    "        COUNT(CASE WHEN id ~ '^[0-9a-fA-F]{8}-[0-9a-fA-F]{4}-[0-9a-fA-F]{4}-[0-9a-fA-F]{4}-[0-9a-fA-F]{12}$' \n",
    "                   THEN 1 END) as valid_uuid_format,\n",
    "        COUNT(CASE WHEN id NOT SIMILAR TO '[0-9a-fA-F]{8}-[0-9a-fA-F]{4}-[0-9a-fA-F]{4}-[0-9a-fA-F]{4}-[0-9a-fA-F]{12}' \n",
    "                   THEN 1 END) as invalid_uuid_format\n",
    "    FROM clusters\n",
    "\"\"\").show()"
   ]
  },
  {
   "cell_type": "code",
   "execution_count": null,
   "id": "da19d556",
   "metadata": {},
   "outputs": [],
   "source": [
    "# Check for duplicate IDs\n",
    "print(\"=== DUPLICATE ID CHECK ===\")\n",
    "con.sql(\"\"\"\n",
    "    WITH id_counts AS (\n",
    "        SELECT id, COUNT(*) as count\n",
    "        FROM clusters\n",
    "        GROUP BY id\n",
    "        HAVING COUNT(*) > 1\n",
    "    )\n",
    "    SELECT \n",
    "        COUNT(*) as duplicate_ids,\n",
    "        SUM(count) as total_duplicate_rows\n",
    "    FROM id_counts\n",
    "\"\"\").show()"
   ]
  },
  {
   "cell_type": "markdown",
   "id": "30760dcc",
   "metadata": {},
   "source": [
    "## 4. Data Quality Summary"
   ]
  },
  {
   "cell_type": "code",
   "execution_count": null,
   "id": "a7186d30",
   "metadata": {},
   "outputs": [],
   "source": [
    "# Comprehensive data quality report\n",
    "print(\"=== DATA QUALITY REPORT ===\\n\")\n",
    "\n",
    "# Get stats\n",
    "stats = con.sql(\"SELECT * FROM barcode_stats\").df().iloc[0]\n",
    "\n",
    "print(f\"Total Records: {stats['total_rows']:,}\")\n",
    "print(f\"Unique Barcodes: {stats['unique_barcodes']:,}\")\n",
    "print(f\"Records with Barcode: {stats['valid_barcodes']:,} ({100*stats['valid_barcodes']/stats['total_rows']:.1f}%)\")\n",
    "print(f\"Records without Barcode: {stats['null_barcodes']:,} ({100*stats['null_barcodes']/stats['total_rows']:.1f}%)\")\n",
    "\n",
    "# Barcode uniqueness\n",
    "if stats['valid_barcodes'] > 0:\n",
    "    duplication_rate = 1 - (stats['unique_barcodes'] / stats['valid_barcodes'])\n",
    "    print(f\"\\nBarcode Duplication Rate: {100*duplication_rate:.2f}%\")\n",
    "    print(f\"Average occurrences per barcode: {stats['valid_barcodes']/stats['unique_barcodes']:.2f}\")"
   ]
  },
  {
   "cell_type": "code",
   "execution_count": null,
   "id": "3539e1f4",
   "metadata": {},
   "outputs": [],
   "source": [
    "# Export summary statistics to CSV (optional)\n",
    "# summary_df = con.sql(\"SELECT * FROM barcode_stats\").df()\n",
    "# summary_df.to_csv(root / \"artifacts\" / \"data_summary.csv\", index=False)\n",
    "# print(\"Summary exported to artifacts/data_summary.csv\")"
   ]
  },
  {
   "cell_type": "code",
   "execution_count": null,
   "id": "f1aa43f6",
   "metadata": {},
   "outputs": [],
   "source": [
    "# Close database connection\n",
    "con.close()\n",
    "print(\"\\nAnalysis complete!\")"
   ]
  }
 ],
 "metadata": {
  "kernelspec": {
   "display_name": "Python (dnaenv)",
   "language": "python",
   "name": "dnaenv"
  },
  "language_info": {
   "name": "python",
   "version": "3.11"
  }
 },
 "nbformat": 4,
 "nbformat_minor": 5
}
